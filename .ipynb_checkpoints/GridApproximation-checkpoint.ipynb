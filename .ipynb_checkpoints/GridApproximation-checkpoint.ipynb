{
 "cells": [
  {
   "cell_type": "code",
   "execution_count": 1,
   "id": "016054bd-923d-4239-a709-d0e99bed7313",
   "metadata": {},
   "outputs": [],
   "source": [
    "import pandas as pd\n",
    "import matplotlib.pyplot as plt\n",
    "import numpy as np "
   ]
  },
  {
   "cell_type": "markdown",
   "id": "c6b948ad-2e19-40c6-a784-2bdd0e5d8562",
   "metadata": {},
   "source": [
    "## Grid approximation"
   ]
  },
  {
   "cell_type": "markdown",
   "id": "027a7de7-cf10-4177-8c04-54e435811b90",
   "metadata": {},
   "source": [
    "You have just been hired as a data analyst at your government's Department of Health. The cabinet is considering the purchase of a brand-new drug against a deadly and contagious virus. There are some doubts, however, regarding how effective the new drug is against the virus. You have been tasked with estimating the drug's efficacy rate, i.e. the percentage of patients cured by the drug.\n",
    "\n",
    "An experiment was quickly set up in which 10 sick patients have been treated with the drug. Once you know how many of them are cured, you can use the binomial distribution with a cured patient being a \"success\" and the efficacy rate being the \"probability of success\". While you are waiting for the experiment's results, you decide to prepare the parameter grid."
   ]
  },
  {
   "cell_type": "code",
   "execution_count": 4,
   "id": "1d64428b-591f-4580-a806-092c70bc953d",
   "metadata": {},
   "outputs": [],
   "source": [
    "# Create cured patients array from 1 to 10\n",
    "num_patients_cured = np.arange(0, 11, 1)\n",
    "\n",
    "# Create efficacy rate array from 0 to 1 by 0.01\n",
    "efficacy_rate = np.arange(0, 1.01, 0.01)\n",
    "\n",
    "# Combine the two arrays in one DataFrame\n",
    "df = pd.DataFrame([(x, y) for x in num_patients_cured for y in efficacy_rate])\n",
    "\n",
    "# Name the columns\n",
    "df.columns = [\"num_patients_cured\", \"efficacy_rate\"]"
   ]
  },
  {
   "cell_type": "code",
   "execution_count": 5,
   "id": "61fd875b-8c04-4890-8a18-cefa3d668275",
   "metadata": {},
   "outputs": [
    {
     "data": {
      "text/html": [
       "<div>\n",
       "<style scoped>\n",
       "    .dataframe tbody tr th:only-of-type {\n",
       "        vertical-align: middle;\n",
       "    }\n",
       "\n",
       "    .dataframe tbody tr th {\n",
       "        vertical-align: top;\n",
       "    }\n",
       "\n",
       "    .dataframe thead th {\n",
       "        text-align: right;\n",
       "    }\n",
       "</style>\n",
       "<table border=\"1\" class=\"dataframe\">\n",
       "  <thead>\n",
       "    <tr style=\"text-align: right;\">\n",
       "      <th></th>\n",
       "      <th>num_patients_cured</th>\n",
       "      <th>efficacy_rate</th>\n",
       "    </tr>\n",
       "  </thead>\n",
       "  <tbody>\n",
       "    <tr>\n",
       "      <th>0</th>\n",
       "      <td>0</td>\n",
       "      <td>0.00</td>\n",
       "    </tr>\n",
       "    <tr>\n",
       "      <th>1</th>\n",
       "      <td>0</td>\n",
       "      <td>0.01</td>\n",
       "    </tr>\n",
       "    <tr>\n",
       "      <th>2</th>\n",
       "      <td>0</td>\n",
       "      <td>0.02</td>\n",
       "    </tr>\n",
       "    <tr>\n",
       "      <th>3</th>\n",
       "      <td>0</td>\n",
       "      <td>0.03</td>\n",
       "    </tr>\n",
       "    <tr>\n",
       "      <th>4</th>\n",
       "      <td>0</td>\n",
       "      <td>0.04</td>\n",
       "    </tr>\n",
       "    <tr>\n",
       "      <th>...</th>\n",
       "      <td>...</td>\n",
       "      <td>...</td>\n",
       "    </tr>\n",
       "    <tr>\n",
       "      <th>1106</th>\n",
       "      <td>10</td>\n",
       "      <td>0.96</td>\n",
       "    </tr>\n",
       "    <tr>\n",
       "      <th>1107</th>\n",
       "      <td>10</td>\n",
       "      <td>0.97</td>\n",
       "    </tr>\n",
       "    <tr>\n",
       "      <th>1108</th>\n",
       "      <td>10</td>\n",
       "      <td>0.98</td>\n",
       "    </tr>\n",
       "    <tr>\n",
       "      <th>1109</th>\n",
       "      <td>10</td>\n",
       "      <td>0.99</td>\n",
       "    </tr>\n",
       "    <tr>\n",
       "      <th>1110</th>\n",
       "      <td>10</td>\n",
       "      <td>1.00</td>\n",
       "    </tr>\n",
       "  </tbody>\n",
       "</table>\n",
       "<p>1111 rows × 2 columns</p>\n",
       "</div>"
      ],
      "text/plain": [
       "      num_patients_cured  efficacy_rate\n",
       "0                      0           0.00\n",
       "1                      0           0.01\n",
       "2                      0           0.02\n",
       "3                      0           0.03\n",
       "4                      0           0.04\n",
       "...                  ...            ...\n",
       "1106                  10           0.96\n",
       "1107                  10           0.97\n",
       "1108                  10           0.98\n",
       "1109                  10           0.99\n",
       "1110                  10           1.00\n",
       "\n",
       "[1111 rows x 2 columns]"
      ]
     },
     "execution_count": 5,
     "metadata": {},
     "output_type": "execute_result"
    }
   ],
   "source": [
    "df"
   ]
  },
  {
   "cell_type": "markdown",
   "id": "f63c02b6-9c76-4974-8e03-bf4bc36a4669",
   "metadata": {},
   "source": [
    "## Grid approximation without prior knowledge\n",
    "- According to the experiment's outcomes, out of 10 sick patients treated with the drug, 9 have been cured. What can you say about the drug's efficacy rate based on such a small sample? Assume you have no prior knowledge whatsoever regarding how good the drug is."
   ]
  },
  {
   "cell_type": "code",
   "execution_count": 8,
   "id": "6055a0ef-6605-498f-b5f6-5c2794cffefe",
   "metadata": {},
   "outputs": [],
   "source": [
    "from scipy.stats import uniform, binom\n",
    "# Calculate the prior efficacy rate and the likelihood\n",
    "df[\"prior\"] = uniform.pdf(df[\"efficacy_rate\"])\n",
    "df[\"likelihood\"] = binom.pmf(df[\"num_patients_cured\"], 10, df[\"efficacy_rate\"])"
   ]
  },
  {
   "cell_type": "code",
   "execution_count": 9,
   "id": "062622b8-6ef1-4e96-98dd-7393a3924448",
   "metadata": {},
   "outputs": [
    {
     "data": {
      "text/html": [
       "<div>\n",
       "<style scoped>\n",
       "    .dataframe tbody tr th:only-of-type {\n",
       "        vertical-align: middle;\n",
       "    }\n",
       "\n",
       "    .dataframe tbody tr th {\n",
       "        vertical-align: top;\n",
       "    }\n",
       "\n",
       "    .dataframe thead th {\n",
       "        text-align: right;\n",
       "    }\n",
       "</style>\n",
       "<table border=\"1\" class=\"dataframe\">\n",
       "  <thead>\n",
       "    <tr style=\"text-align: right;\">\n",
       "      <th></th>\n",
       "      <th>num_patients_cured</th>\n",
       "      <th>efficacy_rate</th>\n",
       "      <th>prior</th>\n",
       "      <th>likelihood</th>\n",
       "    </tr>\n",
       "  </thead>\n",
       "  <tbody>\n",
       "    <tr>\n",
       "      <th>0</th>\n",
       "      <td>0</td>\n",
       "      <td>0.00</td>\n",
       "      <td>1.0</td>\n",
       "      <td>1.000000</td>\n",
       "    </tr>\n",
       "    <tr>\n",
       "      <th>1</th>\n",
       "      <td>0</td>\n",
       "      <td>0.01</td>\n",
       "      <td>1.0</td>\n",
       "      <td>0.904382</td>\n",
       "    </tr>\n",
       "    <tr>\n",
       "      <th>2</th>\n",
       "      <td>0</td>\n",
       "      <td>0.02</td>\n",
       "      <td>1.0</td>\n",
       "      <td>0.817073</td>\n",
       "    </tr>\n",
       "    <tr>\n",
       "      <th>3</th>\n",
       "      <td>0</td>\n",
       "      <td>0.03</td>\n",
       "      <td>1.0</td>\n",
       "      <td>0.737424</td>\n",
       "    </tr>\n",
       "    <tr>\n",
       "      <th>4</th>\n",
       "      <td>0</td>\n",
       "      <td>0.04</td>\n",
       "      <td>1.0</td>\n",
       "      <td>0.664833</td>\n",
       "    </tr>\n",
       "    <tr>\n",
       "      <th>...</th>\n",
       "      <td>...</td>\n",
       "      <td>...</td>\n",
       "      <td>...</td>\n",
       "      <td>...</td>\n",
       "    </tr>\n",
       "    <tr>\n",
       "      <th>1106</th>\n",
       "      <td>10</td>\n",
       "      <td>0.96</td>\n",
       "      <td>1.0</td>\n",
       "      <td>0.664833</td>\n",
       "    </tr>\n",
       "    <tr>\n",
       "      <th>1107</th>\n",
       "      <td>10</td>\n",
       "      <td>0.97</td>\n",
       "      <td>1.0</td>\n",
       "      <td>0.737424</td>\n",
       "    </tr>\n",
       "    <tr>\n",
       "      <th>1108</th>\n",
       "      <td>10</td>\n",
       "      <td>0.98</td>\n",
       "      <td>1.0</td>\n",
       "      <td>0.817073</td>\n",
       "    </tr>\n",
       "    <tr>\n",
       "      <th>1109</th>\n",
       "      <td>10</td>\n",
       "      <td>0.99</td>\n",
       "      <td>1.0</td>\n",
       "      <td>0.904382</td>\n",
       "    </tr>\n",
       "    <tr>\n",
       "      <th>1110</th>\n",
       "      <td>10</td>\n",
       "      <td>1.00</td>\n",
       "      <td>1.0</td>\n",
       "      <td>1.000000</td>\n",
       "    </tr>\n",
       "  </tbody>\n",
       "</table>\n",
       "<p>1111 rows × 4 columns</p>\n",
       "</div>"
      ],
      "text/plain": [
       "      num_patients_cured  efficacy_rate  prior  likelihood\n",
       "0                      0           0.00    1.0    1.000000\n",
       "1                      0           0.01    1.0    0.904382\n",
       "2                      0           0.02    1.0    0.817073\n",
       "3                      0           0.03    1.0    0.737424\n",
       "4                      0           0.04    1.0    0.664833\n",
       "...                  ...            ...    ...         ...\n",
       "1106                  10           0.96    1.0    0.664833\n",
       "1107                  10           0.97    1.0    0.737424\n",
       "1108                  10           0.98    1.0    0.817073\n",
       "1109                  10           0.99    1.0    0.904382\n",
       "1110                  10           1.00    1.0    1.000000\n",
       "\n",
       "[1111 rows x 4 columns]"
      ]
     },
     "execution_count": 9,
     "metadata": {},
     "output_type": "execute_result"
    }
   ],
   "source": [
    "df"
   ]
  },
  {
   "cell_type": "code",
   "execution_count": 13,
   "id": "93731c83-5faf-429f-bbb3-c418642f593d",
   "metadata": {},
   "outputs": [
    {
     "data": {
      "text/plain": [
       "count    1111.000000\n",
       "mean        0.090909\n",
       "std         0.130410\n",
       "min         0.000000\n",
       "25%         0.000177\n",
       "50%         0.022890\n",
       "75%         0.164156\n",
       "max         1.000000\n",
       "Name: likelihood, dtype: float64"
      ]
     },
     "execution_count": 13,
     "metadata": {},
     "output_type": "execute_result"
    }
   ],
   "source": [
    "df[\"likelihood\"].describe()"
   ]
  },
  {
   "cell_type": "code",
   "execution_count": null,
   "id": "566f843b-70a5-4851-84c9-4e6067ac0043",
   "metadata": {},
   "outputs": [],
   "source": []
  },
  {
   "cell_type": "code",
   "execution_count": null,
   "id": "79fedf0c-02ca-4f67-9fa4-2a986338b3cb",
   "metadata": {},
   "outputs": [],
   "source": []
  },
  {
   "cell_type": "code",
   "execution_count": null,
   "id": "c2b3dd5b-3139-463a-993e-643e4e6e9786",
   "metadata": {},
   "outputs": [],
   "source": []
  }
 ],
 "metadata": {
  "kernelspec": {
   "display_name": "Python 3 (ipykernel)",
   "language": "python",
   "name": "python3"
  },
  "language_info": {
   "codemirror_mode": {
    "name": "ipython",
    "version": 3
   },
   "file_extension": ".py",
   "mimetype": "text/x-python",
   "name": "python",
   "nbconvert_exporter": "python",
   "pygments_lexer": "ipython3",
   "version": "3.10.13"
  }
 },
 "nbformat": 4,
 "nbformat_minor": 5
}
