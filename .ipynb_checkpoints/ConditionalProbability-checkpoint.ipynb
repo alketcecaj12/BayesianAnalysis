{
 "cells": [
  {
   "cell_type": "markdown",
   "id": "7dd883a1-e319-41d3-8b98-fb605fb96ec9",
   "metadata": {},
   "source": [
    "### Should you take your umbrella?\n",
    "\n",
    "- Imagine you are going out and are not sure whether to take an umbrella. On your smartphone you see a forecast predicting \n",
    "a 50% chance of rain. You start to consider taking the umbrella. Then, you see a lightning and hear the thunder, \n",
    "and are now sure the umbrella will come in handy. \n",
    "You have just performed a Bayesian analysis!"
   ]
  },
  {
   "cell_type": "markdown",
   "id": "2a776768-3501-4af8-a35e-d11b5c4bc146",
   "metadata": {},
   "source": [
    "### Bayesian inference \n",
    "- Bayesian inference means updating one's belief about something as the new information becomes available. Based on the forecast and the rain outside, you have just updated your belief about today's weather. Similarly, one might update their belief about the parameters of a statistical model based on incoming data."
   ]
  },
  {
   "cell_type": "markdown",
   "id": "0f9f1ac2-93b4-4bf3-a379-40bbc99615f5",
   "metadata": {},
   "source": [
    "### Frequentist approach VS Bayesian approach\n",
    "\n",
    "- The first difference lies in the meaning of the word **probability**. For frequentists, probability is the proportion of\n",
    "outcomes. In 6000 dice rolls, approximately 1000 rolls would come up 6. Thats why the probability of rolling a 6 is 1/6. \n",
    "For a Bayesian, on the other hand, probability means a degree of belief. A valid Bayesian statement of probability might\n",
    "be  I am 90% sure this models parameter should be larger than 1.\n",
    "\n",
    "\n",
    "- The second difference between the two approaches is in the nature of the **parameters** of statistical models. \n",
    "For frequentists, they are simply fixed values. For Bayesians, parameters are random variables. This means they can be\n",
    "described by probability distributions and can take many different values with different probabilities. \n",
    "These two differences are what makes the Bayesian approach so appealing!\n",
    "\n",
    "<img src = \"frequentistVSbayesian.PNG\">"
   ]
  },
  {
   "cell_type": "markdown",
   "id": "878cb83b-9f8f-4a29-8e26-c5788c2e9fbd",
   "metadata": {},
   "source": [
    "### Advantages of the Bayesian modelling: \n",
    "\n",
    "- First, since the parameters have distributions, the Bayesian approach can naturally handle uncertainty. If a distribution\n",
    "of a parameter describes many different values as equally likely, for instance, the uncertainty is large.\n",
    "Second, since probability is defined as a degree of belief, its easy to include expert opinion or domain knowledge \n",
    "in a Bayesian model in a statistically sound way. There are many other reasons to go Bayes as well: Bayesian inference\n",
    "does not rely on fixed constants such as p-values, a common critique on the classical approach. Bayesian inference is\n",
    "statistically correct even with little data, and finally, it often coincides with the frequentist results, \n",
    "but offers more flexibility to build custom models."
   ]
  },
  {
   "cell_type": "code",
   "execution_count": null,
   "id": "398c1302-7ec7-4186-b0cd-412385e7f385",
   "metadata": {},
   "outputs": [],
   "source": []
  },
  {
   "cell_type": "code",
   "execution_count": null,
   "id": "21f7d338-e577-406d-9b81-eb601272c0d9",
   "metadata": {},
   "outputs": [],
   "source": []
  },
  {
   "cell_type": "code",
   "execution_count": null,
   "id": "85fdb64e-0d54-4985-87ac-7048831eec11",
   "metadata": {},
   "outputs": [],
   "source": []
  }
 ],
 "metadata": {
  "kernelspec": {
   "display_name": "Python 3 (ipykernel)",
   "language": "python",
   "name": "python3"
  },
  "language_info": {
   "codemirror_mode": {
    "name": "ipython",
    "version": 3
   },
   "file_extension": ".py",
   "mimetype": "text/x-python",
   "name": "python",
   "nbconvert_exporter": "python",
   "pygments_lexer": "ipython3",
   "version": "3.10.13"
  }
 },
 "nbformat": 4,
 "nbformat_minor": 5
}
