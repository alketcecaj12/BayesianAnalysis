{
 "cells": [
  {
   "cell_type": "markdown",
   "id": "cd77e489-48fc-4fb5-b9c4-944092c6185a",
   "metadata": {},
   "source": [
    "### Probability and Bayes' Theorem\n",
    "- Whether we are talking about the frequentist or Bayesian interpretation, probability is always a statement about \n",
    "uncertainty. It is expressed as a number between 0 and 1, where a zero indicates something impossible, a 1 indicates \n",
    "something certain, and a probability of 0-point-5 indicates something is equally likely to happen or not happen. A probability that some event will occur is typically denoted with the capital \"P\" followed by the event in question in parentheses. This notation means there is a 75% chance of rain tomorrow.\n",
    "\n",
    "### Probability rules\n",
    "\n",
    "- When making calculations involving probabilities, there are two rules. The first is the sum rule, which tells us how \n",
    "to calculate the probability that at least one of multiple independent events happens: the probability that either A or \n",
    "B occurs. The \"or\" operator translates to addition. To get the probability of rolling a 2 or a 4 with a die, we need to\n",
    "add the two respective probabilities. The other rule is the product rule, telling us how to calculate the probability of multiple independent events happening together: the probability that both A and B will occur. The \"and\" operator translates to multiplication. To get the probability of rolling a 2, and then a 4 in the next roll, we need to multiply the two respective probabilities.\n",
    "\n"
   ]
  },
  {
   "cell_type": "markdown",
   "id": "48747760-ca69-4b20-b5aa-d45385824ea6",
   "metadata": {},
   "source": [
    "### Conditional probability\n",
    "- Another important concept is the conditional probability, that is: the probability of some event occurring, given that some other event has occurred. We denote it with a vertical bar and read as the probability of A given B.\n",
    "- Imagine a box with two orange balls and one blue ball. You draw one at random. The probability that it's orange is 2/3, and that it's blue - 1/3. These are unconditional probabilities. Now, you put the ball you've drawn away from the box and you draw another one from the remaining two. The probability that this second ball is blue given that the first one was orange is 50%, since with one orange ball gone, there is one orange and one blue left.\n",
    "<img src = \"cp2.png\" width = 600 height = 500>\n"
   ]
  },
  {
   "cell_type": "code",
   "execution_count": null,
   "id": "d7551ea9-e88c-411e-83eb-64abe7e71be0",
   "metadata": {},
   "outputs": [],
   "source": []
  },
  {
   "cell_type": "markdown",
   "id": "f6de36f3-077c-4727-b822-4dd6cc84472f",
   "metadata": {},
   "source": [
    "### Bayes' Theorem\n",
    "- Now we are ready to face the famous Bayes' Theorem, which is a way to calculate conditional probability when we know some other probabilities. Using the formula, we can calculate the probability of A given B, if we know the probability of B given A and the unconditional probabilities of A and B.\n",
    "- \n",
    "<img src = \"cp3.png\" width = 500 height = 500>"
   ]
  },
  {
   "cell_type": "code",
   "execution_count": null,
   "id": "8da60973-e1bd-4738-9e6c-787b59cb0947",
   "metadata": {},
   "outputs": [],
   "source": []
  },
  {
   "cell_type": "code",
   "execution_count": null,
   "id": "0ee2660d-14df-46ce-8433-120b60cf008a",
   "metadata": {},
   "outputs": [],
   "source": []
  },
  {
   "cell_type": "code",
   "execution_count": null,
   "id": "c3721d7c-236b-4f82-a8cc-1b4017f1f195",
   "metadata": {},
   "outputs": [],
   "source": []
  },
  {
   "cell_type": "code",
   "execution_count": null,
   "id": "17dd9f70-98e8-43fc-9ff8-09b1e2ea4911",
   "metadata": {},
   "outputs": [],
   "source": []
  }
 ],
 "metadata": {
  "kernelspec": {
   "display_name": "Python 3 (ipykernel)",
   "language": "python",
   "name": "python3"
  },
  "language_info": {
   "codemirror_mode": {
    "name": "ipython",
    "version": 3
   },
   "file_extension": ".py",
   "mimetype": "text/x-python",
   "name": "python",
   "nbconvert_exporter": "python",
   "pygments_lexer": "ipython3",
   "version": "3.10.13"
  }
 },
 "nbformat": 4,
 "nbformat_minor": 5
}
