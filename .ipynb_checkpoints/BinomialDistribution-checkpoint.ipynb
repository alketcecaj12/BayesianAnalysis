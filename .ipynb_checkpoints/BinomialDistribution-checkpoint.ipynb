{
 "cells": [
  {
   "cell_type": "markdown",
   "id": "b5a7f1e0-5865-4f17-900e-4c66eac44f62",
   "metadata": {},
   "source": [
    "### Notebook 5 "
   ]
  },
  {
   "cell_type": "markdown",
   "id": "c3f53ffc-4cb8-49fa-9c7f-cb023ca3c972",
   "metadata": {},
   "source": [
    "### How to use a Bayesian model to estimate the parameters of a probability distribution!\n"
   ]
  },
  {
   "cell_type": "markdown",
   "id": "5d399461-7c8f-448e-9693-7a2dc711cfde",
   "metadata": {},
   "source": [
    "### We will work with the so-called binomial distribution. \n",
    "\n",
    "- It's a discrete distribution, allowing for only two values:\n",
    "   - a success, conventionally denoted as 1,\n",
    "   - and a failure, typically denoted as 0.\n",
    "\n",
    "- A success could mean many things, depending on the use case: it could be tossing heads with a coin, curing a sick patient, or a user clicking on an online ad. There are only two outcomes, so when there is no success, there is a failure. \n",
    "\n",
    "\n",
    "- The binomial distribution has one parameter: the probability of success. When we want to model some phenomenon using the binomial distribution, we need a list of observed results (successes and failures) and the \n",
    "task is to estimate the probability of success of the binomial distribution describing our data."
   ]
  },
  {
   "cell_type": "markdown",
   "id": "ce59e931-1e69-4b56-92ce-d14387407e43",
   "metadata": {},
   "source": [
    "### A summary \n",
    "\n",
    "<img src = \"cp6.png\" width = 600 height = 400>"
   ]
  },
  {
   "cell_type": "code",
   "execution_count": null,
   "id": "704d8180-a7e8-4ad0-9b38-8d9613e30688",
   "metadata": {},
   "outputs": [],
   "source": []
  },
  {
   "cell_type": "code",
   "execution_count": null,
   "id": "2e7b9750-e642-4782-93da-9445e0ab3bd1",
   "metadata": {},
   "outputs": [],
   "source": []
  },
  {
   "cell_type": "code",
   "execution_count": null,
   "id": "872a6787-b9c0-4f81-afa0-b02a055783b2",
   "metadata": {},
   "outputs": [],
   "source": []
  },
  {
   "cell_type": "code",
   "execution_count": null,
   "id": "64842c60-e004-44b1-b10d-375bbef2f9a4",
   "metadata": {},
   "outputs": [],
   "source": []
  },
  {
   "cell_type": "code",
   "execution_count": null,
   "id": "8c70dbcf-7171-41f4-81e6-13d43f53c485",
   "metadata": {},
   "outputs": [],
   "source": []
  }
 ],
 "metadata": {
  "kernelspec": {
   "display_name": "Python 3 (ipykernel)",
   "language": "python",
   "name": "python3"
  },
  "language_info": {
   "codemirror_mode": {
    "name": "ipython",
    "version": 3
   },
   "file_extension": ".py",
   "mimetype": "text/x-python",
   "name": "python",
   "nbconvert_exporter": "python",
   "pygments_lexer": "ipython3",
   "version": "3.10.13"
  }
 },
 "nbformat": 4,
 "nbformat_minor": 5
}
