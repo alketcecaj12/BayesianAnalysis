{
 "cells": [
  {
   "cell_type": "markdown",
   "id": "cd77e489-48fc-4fb5-b9c4-944092c6185a",
   "metadata": {},
   "source": [
    "### Probability and Bayes' Theorem\n",
    "- Whether we are talking about the frequentist or Bayesian interpretation, probability is always a statement about \n",
    "uncertainty. It is expressed as a number between 0 and 1, where a zero indicates something impossible, a 1 indicates \n",
    "something certain, and a probability of 0-point-5 indicates something is equally likely to happen or not happen. A probability that some event will occur is typically denoted with the capital \"P\" followed by the event in question in parentheses. This notation means there is a 75% chance of rain tomorrow."
   ]
  },
  {
   "cell_type": "markdown",
   "id": "3d061ab2-b86f-4b40-a5c4-2b11de67555d",
   "metadata": {},
   "source": [
    "### Probability rules\n",
    "\n",
    "- When making calculations involving probabilities, there are two rules. The first is the sum rule, which tells us how \n",
    "to calculate the probability that at least one of multiple independent events happens: the probability that either A or \n",
    "B occurs. The \"or\" operator translates to addition. To get the probability of rolling a 2 or a 4 with a die, we need to\n",
    "add the two respective probabilities. The other rule is the product rule, telling us how to calculate the probability of multiple independent events happening together: the probability that both A and B will occur. The \"and\" operator translates to multiplication. To get the probability of rolling a 2, and then a 4 in the next roll, we need to multiply the two respective probabilities."
   ]
  },
  {
   "cell_type": "markdown",
   "id": "48747760-ca69-4b20-b5aa-d45385824ea6",
   "metadata": {},
   "source": [
    "### Conditional probability\n",
    "- Another important concept is the conditional probability, that is: the probability of some event occurring, given that some other event has occurred. We denote it with a vertical bar and read as the probability of A given B.\n",
    "- Imagine a box with two orange balls and one blue ball. You draw one at random. The probability that it's orange is 2/3, and that it's blue - 1/3. These are unconditional probabilities. Now, you put the ball you've drawn away from the box and you draw another one from the remaining two. The probability that this second ball is blue given that the first one was orange is 50%, since with one orange ball gone, there is one orange and one blue left.\n",
    "- \n",
    "<img src = \"cp2.png\" width = 600 height = 500>\n"
   ]
  },
  {
   "cell_type": "code",
   "execution_count": null,
   "id": "d7551ea9-e88c-411e-83eb-64abe7e71be0",
   "metadata": {},
   "outputs": [],
   "source": []
  },
  {
   "cell_type": "markdown",
   "id": "f6de36f3-077c-4727-b822-4dd6cc84472f",
   "metadata": {},
   "source": [
    "### Bayes' Theorem\n",
    "- Now we are ready to face the famous Bayes' Theorem, which is a way to calculate conditional probability when we know some other probabilities. Using the formula, we can calculate the probability of A given B, if we know the probability of B given A and the unconditional probabilities of A and B.\n",
    "- \n",
    "<img src = \"cp3.png\" width = 900 height = 500>"
   ]
  },
  {
   "cell_type": "markdown",
   "id": "3fca9d5b-7cee-413e-8042-4afdeb53e93f",
   "metadata": {},
   "source": [
    "### Another example of Bayes Theorem or Bayes Rule\n",
    "- A doctor suspects a disease in their patient, so they run a medical test. The test's manufacturer claims that 99% of sick patients test positive, while the doctor has observed that the test comes back positive in 2% of all cases. The suspected disease is quite rare: only 1 in 1000 people suffer from it.\n",
    "\n",
    "- The test result came back positive. What is the probability that the patient is indeed sick? You can use Bayes' Theorem to answer this question. Here is what you should calculate:\n",
    "\n",
    "<img src = \"cp4.png\" width = 800 height = 500>"
   ]
  },
  {
   "cell_type": "markdown",
   "id": "44986d7f-24ae-449b-ac0f-bc3f24738029",
   "metadata": {},
   "source": [
    "<img src = \"cp5.png\" width = 800 height = 500>"
   ]
  },
  {
   "cell_type": "code",
   "execution_count": 1,
   "id": "c3721d7c-236b-4f82-a8cc-1b4017f1f195",
   "metadata": {},
   "outputs": [],
   "source": [
    "# P_sick_positive = P_positive_sick * p_sick /P_positive"
   ]
  },
  {
   "cell_type": "code",
   "execution_count": 6,
   "id": "17dd9f70-98e8-43fc-9ff8-09b1e2ea4911",
   "metadata": {},
   "outputs": [
    {
     "data": {
      "text/plain": [
       "0.049499999999999995"
      ]
     },
     "execution_count": 6,
     "metadata": {},
     "output_type": "execute_result"
    }
   ],
   "source": [
    "P_sick_positive = (0.99 * 0.001 ) /0.02\n",
    "P_sick_positive"
   ]
  },
  {
   "cell_type": "code",
   "execution_count": 7,
   "id": "fab47410-538a-4f62-ae65-af229143b0a6",
   "metadata": {},
   "outputs": [],
   "source": [
    "# What is the probability that the patient is indeed sick ? The answer is 5%."
   ]
  },
  {
   "cell_type": "code",
   "execution_count": null,
   "id": "fda88b81-fe44-44cd-9dcb-51b238dfa012",
   "metadata": {},
   "outputs": [],
   "source": []
  },
  {
   "cell_type": "code",
   "execution_count": null,
   "id": "ce4dcd83-3162-4dfd-9dae-27b97cf367bb",
   "metadata": {},
   "outputs": [],
   "source": []
  },
  {
   "cell_type": "code",
   "execution_count": null,
   "id": "f0e10ed7-9b37-4e93-8685-a0a512d43ea2",
   "metadata": {},
   "outputs": [],
   "source": []
  }
 ],
 "metadata": {
  "kernelspec": {
   "display_name": "Python 3 (ipykernel)",
   "language": "python",
   "name": "python3"
  },
  "language_info": {
   "codemirror_mode": {
    "name": "ipython",
    "version": 3
   },
   "file_extension": ".py",
   "mimetype": "text/x-python",
   "name": "python",
   "nbconvert_exporter": "python",
   "pygments_lexer": "ipython3",
   "version": "3.10.13"
  }
 },
 "nbformat": 4,
 "nbformat_minor": 5
}
